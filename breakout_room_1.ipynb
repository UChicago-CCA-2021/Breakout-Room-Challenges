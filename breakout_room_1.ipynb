{
 "cells": [
  {
   "cell_type": "markdown",
   "metadata": {},
   "source": [
    "## Breakout Room Challenge!\n",
    "\n",
    "On February 4, 2014, Satya Nadella (Chicago Booth alum) became the new CEO of Microsoft. Under Nadella's leadership, Microsoft underwent a cultural transformation which also translated into improving company performance. In his book, Hit Fresh, Nadella articulates two major changes with Microsoft's company culture since he became CEO:\n",
    "\n",
    "1. Employees adopt a \"learn-it-all\" (growth) mindset rather than a \"know-it-all\" mindset.\n",
    "2. The work environment becomes more \"collaborative\" and less \"competitive\" or \"cut-throat\".\n",
    "I hypothesize that Microsoft's Glassdoor employee reviews reflect these two cultural changes. Please help me test it.\n",
    "\n",
    "You can download the csv file of Microsoft's Glassdoor review from 2008 to 2018 [here](https://github.com/william-wei-zhu/glassdoor_reviews/blob/main/microsoft_year.csv). (In the Github page, click 'Download' or 'View raw'. Then right click at blank spaces in the page to 'Save As...') The review data is already grouped by year.\n"
   ]
  },
  {
   "cell_type": "code",
   "execution_count": null,
   "metadata": {},
   "outputs": [],
   "source": []
  }
 ],
 "metadata": {
  "kernelspec": {
   "display_name": "Python 3",
   "language": "python",
   "name": "python3"
  },
  "language_info": {
   "codemirror_mode": {
    "name": "ipython",
    "version": 3
   },
   "file_extension": ".py",
   "mimetype": "text/x-python",
   "name": "python",
   "nbconvert_exporter": "python",
   "pygments_lexer": "ipython3",
   "version": "3.7.6"
  }
 },
 "nbformat": 4,
 "nbformat_minor": 4
}
